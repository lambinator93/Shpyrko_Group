{
 "cells": [
  {
   "cell_type": "code",
   "execution_count": 6,
   "metadata": {
    "scrolled": true
   },
   "outputs": [
    {
     "data": {
      "application/vnd.jupyter.widget-view+json": {
       "model_id": "0e7ed2e675df4b269263550ac76f0d52",
       "version_major": 2,
       "version_minor": 0
      },
      "text/plain": [
       "HBox(children=(HBox(children=(IntSlider(value=0, description='idx'), Output(layout=Layout(height='200px', widt…"
      ]
     },
     "metadata": {},
     "output_type": "display_data"
    }
   ],
   "source": [
    "import ipywidgets as ipy\n",
    "import matplotlib.pyplot as plt\n",
    "import numpy as np\n",
    "import h5py\n",
    "\n",
    "\n",
    "\n",
    "#idx0 = 0\n",
    "#l = plt.imshow(det[idx0])\n",
    "\n",
    "\n",
    "\n",
    "\n",
    "class SliderAndImage():\n",
    "    \n",
    "    filename1 = 'scan_0224.nxs'\n",
    "    f1 = h5py.File(filename1, 'r') #must declare object here to use throughout \n",
    "\n",
    "    en = list(f1['/scan_0224/scan_data/data_15/'])\n",
    "    det = list(f1['/scan_0224/scan_data/data_17/'])\n",
    "    \n",
    "    cmin = 200\n",
    "    cmax = 1300\n",
    "\n",
    "\n",
    "    # show random mesh\n",
    "    def update(self, idx):\n",
    "        with self.out:\n",
    "            fig, ax = plt.subplots(figsize = (5,5))\n",
    "            h = ax.imshow(det[0])\n",
    "            h.set_data(det[idx])\n",
    "            h.set_clim(cmin,cmax)\n",
    "            fig.canvas.flush_events()\n",
    "            fig.canvas.draw()\n",
    "            plt.show()\n",
    "\n",
    "    def make_slider_and_image(self):\n",
    "\n",
    "        self.out = ipy.Output(layout=ipy.Layout(width='200px', height='200px'))\n",
    "\n",
    "        slider = ipy.IntSlider(min = 0, max = 100, orientation = 'horizontal')\n",
    "        widget = ipy.interactive(self.update, idx = slider)\n",
    "\n",
    "        layout = ipy.Layout(\n",
    "        #     display = 'flex',\n",
    "        #                    flex_flow = 'row',\n",
    "        #                    justify_content = 'space-between',\n",
    "        #                    align_items = 'center',\n",
    "                           )\n",
    "        widgets = ipy.HBox(children=(slider, self.out), layout = layout)\n",
    "        return widgets\n",
    "\n",
    "children = []\n",
    "for _ in range(1):\n",
    "    widgets = SliderAndImage()\n",
    "    children.append(widgets.make_slider_and_image())\n",
    "display(ipy.HBox(children))\n",
    "\n",
    "\n"
   ]
  },
  {
   "cell_type": "code",
   "execution_count": null,
   "metadata": {},
   "outputs": [],
   "source": []
  }
 ],
 "metadata": {
  "kernelspec": {
   "display_name": "Python 3",
   "language": "python",
   "name": "python3"
  },
  "language_info": {
   "codemirror_mode": {
    "name": "ipython",
    "version": 3
   },
   "file_extension": ".py",
   "mimetype": "text/x-python",
   "name": "python",
   "nbconvert_exporter": "python",
   "pygments_lexer": "ipython3",
   "version": "3.7.3"
  },
  "widgets": {
   "application/vnd.jupyter.widget-state+json": {
    "state": {},
    "version_major": 2,
    "version_minor": 0
   }
  }
 },
 "nbformat": 4,
 "nbformat_minor": 2
}
